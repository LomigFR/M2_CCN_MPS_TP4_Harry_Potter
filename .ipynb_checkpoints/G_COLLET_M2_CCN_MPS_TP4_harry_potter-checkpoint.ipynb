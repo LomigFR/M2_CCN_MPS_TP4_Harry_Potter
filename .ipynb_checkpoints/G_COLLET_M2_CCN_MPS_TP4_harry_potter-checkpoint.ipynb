{
 "cells": [
  {
   "cell_type": "code",
   "execution_count": 14,
   "metadata": {},
   "outputs": [
    {
     "ename": "TypeError",
     "evalue": "run() takes 0 positional arguments but 1 was given",
     "output_type": "error",
     "traceback": [
      "\u001b[0;31m---------------------------------------------------------------------------\u001b[0m",
      "\u001b[0;31mTypeError\u001b[0m                                 Traceback (most recent call last)",
      "\u001b[0;32m<ipython-input-14-6172ab2b8eef>\u001b[0m in \u001b[0;36m<module>\u001b[0;34m\u001b[0m\n\u001b[1;32m     23\u001b[0m \u001b[0;34m\u001b[0m\u001b[0m\n\u001b[1;32m     24\u001b[0m \u001b[0mlaunch\u001b[0m \u001b[0;34m=\u001b[0m \u001b[0mLaunch\u001b[0m\u001b[0;34m(\u001b[0m\u001b[0mbottles\u001b[0m\u001b[0;34m,\u001b[0m \u001b[0mcontents\u001b[0m\u001b[0;34m)\u001b[0m\u001b[0;34m\u001b[0m\u001b[0;34m\u001b[0m\u001b[0m\n\u001b[0;32m---> 25\u001b[0;31m \u001b[0mlaunch\u001b[0m\u001b[0;34m.\u001b[0m\u001b[0mrun\u001b[0m\u001b[0;34m(\u001b[0m\u001b[0;34m)\u001b[0m\u001b[0;34m\u001b[0m\u001b[0;34m\u001b[0m\u001b[0m\n\u001b[0m",
      "\u001b[0;31mTypeError\u001b[0m: run() takes 0 positional arguments but 1 was given"
     ]
    }
   ],
   "source": [
    "from Fiole import Bottle\n",
    "from Contenu import Content\n",
    "from Process import Launch\n",
    "\n",
    "bottles = []\n",
    "contents = Content()\n",
    "\n",
    "bottle1 = Bottle(1)\n",
    "bottle2 = Bottle(2)\n",
    "bottle3 = Bottle(3)\n",
    "bottle4 = Bottle(4)\n",
    "bottle5 = Bottle(5)\n",
    "bottle6 = Bottle(6)\n",
    "bottle7 = Bottle(7)\n",
    "\n",
    "bottles.append(bottle1)\n",
    "bottles.append(bottle2)\n",
    "bottles.append(bottle3)\n",
    "bottles.append(bottle4)\n",
    "bottles.append(bottle5)\n",
    "bottles.append(bottle6)\n",
    "bottles.append(bottle7)\n",
    "\n",
    "launch = Launch(bottles, contents)\n",
    "launch.run()"
   ]
  }
 ],
 "metadata": {
  "kernelspec": {
   "display_name": "Python 3",
   "language": "python",
   "name": "python3"
  },
  "language_info": {
   "codemirror_mode": {
    "name": "ipython",
    "version": 3
   },
   "file_extension": ".py",
   "mimetype": "text/x-python",
   "name": "python",
   "nbconvert_exporter": "python",
   "pygments_lexer": "ipython3",
   "version": "3.7.4"
  }
 },
 "nbformat": 4,
 "nbformat_minor": 2
}
