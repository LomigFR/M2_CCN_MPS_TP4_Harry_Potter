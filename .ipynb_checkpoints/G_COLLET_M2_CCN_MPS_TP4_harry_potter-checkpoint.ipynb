{
 "cells": [
  {
   "cell_type": "code",
   "execution_count": 1,
   "metadata": {},
   "outputs": [
    {
     "ename": "IndentationError",
     "evalue": "expected an indented block (Process.py, line 29)",
     "output_type": "error",
     "traceback": [
      "Traceback \u001b[0;36m(most recent call last)\u001b[0m:\n",
      "  File \u001b[1;32m\"/home/guillaume_collet/anaconda3/lib/python3.7/site-packages/IPython/core/interactiveshell.py\"\u001b[0m, line \u001b[1;32m3319\u001b[0m, in \u001b[1;35mrun_code\u001b[0m\n    exec(code_obj, self.user_global_ns, self.user_ns)\n",
      "\u001b[0;36m  File \u001b[0;32m\"<ipython-input-1-bf85255951cb>\"\u001b[0;36m, line \u001b[0;32m3\u001b[0;36m, in \u001b[0;35m<module>\u001b[0;36m\u001b[0m\n\u001b[0;31m    from Process import *\u001b[0m\n",
      "\u001b[0;36m  File \u001b[0;32m\"/home/guillaume_collet/Documents/MPS/M2_CCN_MPS_June/TPs/TP4/Process.py\"\u001b[0;36m, line \u001b[0;32m29\u001b[0m\n\u001b[0;31m    def traitement1et7(listeFiole):\u001b[0m\n\u001b[0m                                   ^\u001b[0m\n\u001b[0;31mIndentationError\u001b[0m\u001b[0;31m:\u001b[0m expected an indented block\n"
     ]
    }
   ],
   "source": [
    "from Fiole import Bottle\n",
    "from Contenu import Content\n",
    "from itertools import permutations\n",
    "from Process import *\n",
    "\n",
    "bottles = []\n",
    "content = Content()\n",
    "\n",
    "bottle1 = Bottle(1)\n",
    "bottle2 = Bottle(2)\n",
    "bottle3 = Bottle(3)\n",
    "bottle4 = Bottle(4)\n",
    "bottle5 = Bottle(5)\n",
    "bottle6 = Bottle(6)\n",
    "bottle7 = Bottle(7)\n",
    "\n",
    "bottles.append(bottle1)\n",
    "bottles.append(bottle2)\n",
    "bottles.append(bottle3)\n",
    "bottles.append(bottle4)\n",
    "bottles.append(bottle5)\n",
    "bottles.append(bottle6)\n",
    "bottles.append(bottle7)\n",
    "\n",
    "print(bottles)"
   ]
  },
  {
   "cell_type": "code",
   "execution_count": null,
   "metadata": {},
   "outputs": [],
   "source": [
    "#- Il y a trois fioles de poison, deux fioles de vin d’ortie, une fiole permettant d’avancer et une fiole permettant de reculer.\n",
    "#- Immédiatement à gauche de chacune des deux fioles de vin se trouve une fiole de poison.\n",
    "#- Les fioles 1 et 7 ont des contenus différents~; ni l’une ni l’autre n’est la fiole qui permet d’avancer.\n",
    "#- Ni la fiole la plus grande (fiole 6) ni la plus petite (fiole 3) ne contient du poison.\n",
    "#- Les contenus des fioles 2 et 6 sont identiques."
   ]
  },
  {
   "cell_type": "code",
   "execution_count": null,
   "metadata": {},
   "outputs": [],
   "source": [
    "bottles2 = ['soupe', 'soupe', 'poison', 'poison', 'poison', 'avancer', 'reculer']\n",
    "permut_list = "
   ]
  },
  {
   "cell_type": "code",
   "execution_count": null,
   "metadata": {},
   "outputs": [],
   "source": [
    "help(permutations)"
   ]
  }
 ],
 "metadata": {
  "kernelspec": {
   "display_name": "Python 3",
   "language": "python",
   "name": "python3"
  },
  "language_info": {
   "codemirror_mode": {
    "name": "ipython",
    "version": 3
   },
   "file_extension": ".py",
   "mimetype": "text/x-python",
   "name": "python",
   "nbconvert_exporter": "python",
   "pygments_lexer": "ipython3",
   "version": "3.7.4"
  }
 },
 "nbformat": 4,
 "nbformat_minor": 2
}
