{
 "cells": [
  {
   "cell_type": "code",
   "execution_count": 12,
   "metadata": {},
   "outputs": [
    {
     "ename": "TypeError",
     "evalue": "__init__() takes 1 positional argument but 2 were given",
     "output_type": "error",
     "traceback": [
      "\u001b[0;31m---------------------------------------------------------------------------\u001b[0m",
      "\u001b[0;31mTypeError\u001b[0m                                 Traceback (most recent call last)",
      "\u001b[0;32m<ipython-input-12-356b9e637bb0>\u001b[0m in \u001b[0;36m<module>\u001b[0;34m\u001b[0m\n\u001b[1;32m      4\u001b[0m \u001b[0mbottles\u001b[0m \u001b[0;34m=\u001b[0m \u001b[0;34m[\u001b[0m\u001b[0;34m]\u001b[0m\u001b[0;34m\u001b[0m\u001b[0;34m\u001b[0m\u001b[0m\n\u001b[1;32m      5\u001b[0m \u001b[0;34m\u001b[0m\u001b[0m\n\u001b[0;32m----> 6\u001b[0;31m \u001b[0mbottle1\u001b[0m \u001b[0;34m=\u001b[0m \u001b[0mBottle\u001b[0m\u001b[0;34m(\u001b[0m\u001b[0;36m1\u001b[0m\u001b[0;34m)\u001b[0m\u001b[0;34m\u001b[0m\u001b[0;34m\u001b[0m\u001b[0m\n\u001b[0m\u001b[1;32m      7\u001b[0m \u001b[0mbottle2\u001b[0m \u001b[0;34m=\u001b[0m \u001b[0mBottle\u001b[0m\u001b[0;34m(\u001b[0m\u001b[0;36m2\u001b[0m\u001b[0;34m)\u001b[0m\u001b[0;34m\u001b[0m\u001b[0;34m\u001b[0m\u001b[0m\n\u001b[1;32m      8\u001b[0m \u001b[0mbottle3\u001b[0m \u001b[0;34m=\u001b[0m \u001b[0mBottle\u001b[0m\u001b[0;34m(\u001b[0m\u001b[0;36m3\u001b[0m\u001b[0;34m)\u001b[0m\u001b[0;34m\u001b[0m\u001b[0;34m\u001b[0m\u001b[0m\n",
      "\u001b[0;31mTypeError\u001b[0m: __init__() takes 1 positional argument but 2 were given"
     ]
    }
   ],
   "source": [
    "from Fiole import Bottle\n",
    "from itertools import permutations\n",
    "from Process import *\n",
    "\n",
    "bottles = []\n",
    "\n",
    "bottle1 = Bottle(1)\n",
    "bottle2 = Bottle(2)\n",
    "bottle3 = Bottle(3)\n",
    "bottle4 = Bottle(4)\n",
    "bottle5 = Bottle(5)\n",
    "bottle6 = Bottle(6)\n",
    "bottle7 = Bottle(7)\n",
    "\n",
    "bottles.append(bottle1)\n",
    "bottles.append(bottle2)\n",
    "bottles.append(bottle3)\n",
    "bottles.append(bottle4)\n",
    "bottles.append(bottle5)\n",
    "bottles.append(bottle6)\n",
    "bottles.append(bottle7)\n",
    "\n",
    "print(bottles)"
   ]
  },
  {
   "cell_type": "code",
   "execution_count": null,
   "metadata": {},
   "outputs": [],
   "source": [
    "#- Il y a trois fioles de poison, deux fioles de vin d’ortie, une fiole permettant d’avancer et une fiole permettant de reculer.\n",
    "#- Immédiatement à gauche de chacune des deux fioles de vin se trouve une fiole de poison.\n",
    "#- Les fioles 1 et 7 ont des contenus différents~; ni l’une ni l’autre n’est la fiole qui permet d’avancer.\n",
    "#- Ni la fiole la plus grande (fiole 6) ni la plus petite (fiole 3) ne contient du poison.\n",
    "#- Les contenus des fioles 2 et 6 sont identiques."
   ]
  },
  {
   "cell_type": "code",
   "execution_count": null,
   "metadata": {},
   "outputs": [],
   "source": [
    "bottles2 = ['soupe', 'soupe', 'poison', 'poison', 'poison', 'avancer', 'reculer']\n",
    "permut_list = "
   ]
  },
  {
   "cell_type": "code",
   "execution_count": 18,
   "metadata": {},
   "outputs": [
    {
     "ename": "NameError",
     "evalue": "name 'permutations' is not defined",
     "output_type": "error",
     "traceback": [
      "\u001b[0;31m---------------------------------------------------------------------------\u001b[0m",
      "\u001b[0;31mNameError\u001b[0m                                 Traceback (most recent call last)",
      "\u001b[0;32m<ipython-input-18-1bb359343cd7>\u001b[0m in \u001b[0;36m<module>\u001b[0;34m\u001b[0m\n\u001b[0;32m----> 1\u001b[0;31m \u001b[0mhelp\u001b[0m\u001b[0;34m(\u001b[0m\u001b[0mpermutations\u001b[0m\u001b[0;34m)\u001b[0m\u001b[0;34m\u001b[0m\u001b[0;34m\u001b[0m\u001b[0m\n\u001b[0m",
      "\u001b[0;31mNameError\u001b[0m: name 'permutations' is not defined"
     ]
    }
   ],
   "source": [
    "help(permutations)"
   ]
  }
 ],
 "metadata": {
  "kernelspec": {
   "display_name": "Python 3",
   "language": "python",
   "name": "python3"
  },
  "language_info": {
   "codemirror_mode": {
    "name": "ipython",
    "version": 3
   },
   "file_extension": ".py",
   "mimetype": "text/x-python",
   "name": "python",
   "nbconvert_exporter": "python",
   "pygments_lexer": "ipython3",
   "version": "3.7.4"
  }
 },
 "nbformat": 4,
 "nbformat_minor": 2
}
